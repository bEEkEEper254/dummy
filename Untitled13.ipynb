{
 "cells": [
  {
   "cell_type": "code",
   "execution_count": null,
   "metadata": {},
   "outputs": [
    {
     "name": "stdout",
     "output_type": "stream",
     "text": [
      "enter a number: 3457688\n",
      "enter an operator(+ - * /)pizza\n",
      "Enter another number: 123456\n",
      "syntax error\n"
     ]
    }
   ],
   "source": [
    "#a math calculatorthatdoessimple arithmetic operations\n",
    "num1=input(\"enter a number: \")\n",
    "num1.capitalize()\n",
    "operator=input(\"enter an operator(+ - * /)\")\n",
    "num2=input(\"Enter another number: \")\n",
    "if operator==\"+\":\n",
    "    \n",
    "    print(result)\n",
    "else:\n",
    "    print(\"syntax error\")"
   ]
  },
  {
   "cell_type": "code",
   "execution_count": null,
   "metadata": {},
   "outputs": [
    {
     "name": "stdout",
     "output_type": "stream",
     "text": [
      "lucille\n",
      "antony\n",
      "steve\n",
      "margo\n"
     ]
    }
   ],
   "source": [
    "num1=input(\"enter a number: \")\n",
    "num1.capitalize()\n",
    "operator=input(\"enter an operator(+ - * /)\")\n",
    "num2=input(\"Enter another number: \")\n",
    "if operator==\"+\":\n",
    "    \n",
    "    print(result)\n",
    "else:\n",
    "    print(\"syntax error\")"
   ]
  },
  {
   "cell_type": "code",
   "execution_count": null,
   "metadata": {},
   "outputs": [],
   "source": [
    "num1=input(\"enter a number: \")\n",
    "num1.capitalize()\n",
    "operator=input(\"enter an operator(+ - * /)\")\n",
    "num2=input(\"Enter another number: \")\n",
    "if operator==\"+\":\n",
    "    \n",
    "    print(result)\n",
    "else:\n",
    "    print(\"syntax error\")"
   ]
  },
  {
   "cell_type": "code",
   "execution_count": null,
   "metadata": {},
   "outputs": [],
   "source": []
  }
 ],
 "metadata": {
  "kernelspec": {
   "display_name": "Python 3",
   "language": "python",
   "name": "python3"
  },
  "language_info": {
   "codemirror_mode": {
    "name": "ipython",
    "version": 3
   },
   "file_extension": ".py",
   "mimetype": "text/x-python",
   "name": "python",
   "nbconvert_exporter": "python",
   "pygments_lexer": "ipython3",
   "version": "3.7.6"
  }
 },
 "nbformat": 4,
 "nbformat_minor": 4
}
